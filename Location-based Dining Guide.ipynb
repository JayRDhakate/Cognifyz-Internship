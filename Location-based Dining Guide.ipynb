{
 "cells": [
  {
   "cell_type": "code",
   "execution_count": null,
   "id": "60200050",
   "metadata": {},
   "outputs": [
    {
     "name": "stdout",
     "output_type": "stream",
     "text": [
      "Requirement already satisfied: folium in c:\\users\\jay\\anaconda3\\lib\\site-packages (0.14.0)\n",
      "Requirement already satisfied: branca>=0.6.0 in c:\\users\\jay\\anaconda3\\lib\\site-packages (from folium) (0.6.0)\n",
      "Requirement already satisfied: jinja2>=2.9 in c:\\users\\jay\\anaconda3\\lib\\site-packages (from folium) (3.1.2)\n",
      "Requirement already satisfied: requests in c:\\users\\jay\\anaconda3\\lib\\site-packages (from folium) (2.31.0)\n",
      "Requirement already satisfied: numpy in c:\\users\\jay\\anaconda3\\lib\\site-packages (from folium) (1.23.5)\n",
      "Requirement already satisfied: MarkupSafe>=2.0 in c:\\users\\jay\\anaconda3\\lib\\site-packages (from jinja2>=2.9->folium) (2.1.1)\n",
      "Requirement already satisfied: urllib3<3,>=1.21.1 in c:\\users\\jay\\anaconda3\\lib\\site-packages (from requests->folium) (1.26.14)\n",
      "Requirement already satisfied: certifi>=2017.4.17 in c:\\users\\jay\\anaconda3\\lib\\site-packages (from requests->folium) (2022.12.7)\n",
      "Requirement already satisfied: charset-normalizer<4,>=2 in c:\\users\\jay\\anaconda3\\lib\\site-packages (from requests->folium) (2.0.4)\n",
      "Requirement already satisfied: idna<4,>=2.5 in c:\\users\\jay\\anaconda3\\lib\\site-packages (from requests->folium) (3.4)\n",
      "Note: you may need to restart the kernel to use updated packages.\n"
     ]
    }
   ],
   "source": [
    "import pandas as pd\n",
    "import numpy as np\n",
    "import matplotlib.pyplot as plt\n",
    "import seaborn as sns\n",
    "%pip install folium\n",
    "import folium\n",
    "from folium.plugins import MarkerCluster"
   ]
  },
  {
   "cell_type": "markdown",
   "id": "d9e08b52",
   "metadata": {},
   "source": [
    "Loading Data"
   ]
  },
  {
   "cell_type": "code",
   "execution_count": null,
   "id": "399d7494",
   "metadata": {},
   "outputs": [],
   "source": [
    "data = pd.read_csv(\"D:\\movies\\projects\\Restro\\cleandata1.csv\")"
   ]
  },
  {
   "cell_type": "code",
   "execution_count": null,
   "id": "c3945a69",
   "metadata": {},
   "outputs": [],
   "source": [
    "data['Cuisines'].fillna('unknown',inplace=True)"
   ]
  },
  {
   "cell_type": "code",
   "execution_count": null,
   "id": "6d685e9a",
   "metadata": {},
   "outputs": [],
   "source": [
    "data.head()"
   ]
  },
  {
   "cell_type": "markdown",
   "id": "23aadad1",
   "metadata": {},
   "source": [
    "Creating Interactive Restaurant Map with Folium"
   ]
  },
  {
   "cell_type": "code",
   "execution_count": null,
   "id": "0a604fd4",
   "metadata": {},
   "outputs": [],
   "source": [
    "restaurant_map = folium.Map(location = [data['Latitude'].mean(),data['Longitude'].mean()],zoom_start=10)\n",
    "\n",
    "for index, row in data.iterrows():\n",
    "     folium.CircleMarker( \n",
    "        location=[row['Latitude'], row['Longitude']],\n",
    "        radius = 5,\n",
    "        color = 'red',\n",
    "        fill = True,\n",
    "        fill_color = 'green',\n",
    "        fill_opacity = 0.6,\n",
    "        popup = row['Restaurant Name']).add_to(restaurant_map)\n",
    "        \n",
    "restaurant_map        "
   ]
  },
  {
   "cell_type": "code",
   "execution_count": null,
   "id": "509827ea",
   "metadata": {},
   "outputs": [],
   "source": [
    "restaurant_map.save('restaurant_distribution.html')\n",
    "\n",
    "group = data.groupby('Locality')\n",
    "restaurant_count_by_city = group.size().reset_index(name = \"Restaurant Count\")\n",
    "restaurant_count_by_city"
   ]
  },
  {
   "cell_type": "code",
   "execution_count": null,
   "id": "439c37b5",
   "metadata": {},
   "outputs": [],
   "source": [
    "average_rating_by_city = group['Aggregate rating'].mean().reset_index(name = 'Average Rating')\n",
    "average_price_by_city = group['Average Cost for two'].mean().reset_index(name = 'Average Price')\n",
    "average_price_by_city"
   ]
  },
  {
   "cell_type": "code",
   "execution_count": null,
   "id": "5ed90166",
   "metadata": {},
   "outputs": [],
   "source": [
    "Locality_with_Highest_rating = average_rating_by_city[average_rating_by_city['Average Rating'] == average_rating_by_city['Average Rating'].max()]\n",
    "Locality_with_Highest_rating"
   ]
  },
  {
   "cell_type": "code",
   "execution_count": null,
   "id": "f6a89f99",
   "metadata": {},
   "outputs": [],
   "source": [
    "plt.figure(figsize=(15,8))\n",
    "plt.bar(average_rating_by_city['Locality'], average_rating_by_city['Average Rating'])\n",
    "plt.xlabel('Locality')\n",
    "plt.ylabel('Average Rating by Locality')\n",
    "plt.xticks(rotation = 90, ha = 'right')\n",
    "plt.tight_layout()\n",
    "plt.show()"
   ]
  },
  {
   "cell_type": "code",
   "execution_count": null,
   "id": "7356b6b3",
   "metadata": {},
   "outputs": [],
   "source": []
  }
 ],
 "metadata": {
  "kernelspec": {
   "display_name": "Python 3 (ipykernel)",
   "language": "python",
   "name": "python3"
  },
  "language_info": {
   "codemirror_mode": {
    "name": "ipython",
    "version": 3
   },
   "file_extension": ".py",
   "mimetype": "text/x-python",
   "name": "python",
   "nbconvert_exporter": "python",
   "pygments_lexer": "ipython3",
   "version": "3.10.9"
  }
 },
 "nbformat": 4,
 "nbformat_minor": 5
}
